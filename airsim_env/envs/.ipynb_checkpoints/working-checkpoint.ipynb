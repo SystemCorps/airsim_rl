{
 "cells": [
  {
   "cell_type": "code",
   "execution_count": 22,
   "metadata": {},
   "outputs": [
    {
     "name": "stdout",
     "output_type": "stream",
     "text": [
      "Overwriting airsim_ppo.py\n"
     ]
    }
   ],
   "source": [
    "%%file airsim_ppo.py\n",
    "\n",
    "import airsim\n",
    "import gym\n",
    "import numpy as np\n",
    "import logging\n",
    "\n",
    "# Ref https://github.com/fshamshirdar/gym-airsim\n",
    "\n",
    "# Baselines PPO requires below list from simulation environment\n",
    "# action space (Box), observation space(Box), observation (Img), reward, is new\n",
    "# \"is new\" - if collision is caused -> reset simulation to initial state\n",
    "\n",
    "logger = logging.getLogger(__name__)\n",
    "\n",
    "class AirSimPPO():\n",
    "    metadata = {'render.modes': ['human']}\n",
    "\n",
    "    def __init__(self, action_range):\n",
    "        # action_range without odometry : pitch, roll, throttle, yaw_rate, duration\n",
    "        self.ac_space = gym.spaces.Box(low=np.array([action_range[0][0], action_range[1][0],\n",
    "                                                     action_range[2][0], action_range[3][0],\n",
    "                                                     action_range[4][0]]),\n",
    "                                       high=np.array([action_range[0][1], action_range[1][1],\n",
    "                                                      action_range[2][1], action_range[3][1],\n",
    "                                                      action_range[4][1]]),\n",
    "                                       dtype=np.float32)\n",
    "        self.ob_space = gym.spaces.Box(low=0, high=255, shape=(84, 84, 1), dtype=np.uint8)\n",
    "        self._seed()\n",
    "        \n",
    "        "
   ]
  },
  {
   "cell_type": "code",
   "execution_count": 23,
   "metadata": {},
   "outputs": [
    {
     "name": "stdout",
     "output_type": "stream",
     "text": [
      "Overwriting airsim_client.py\n"
     ]
    }
   ],
   "source": [
    "%%file airsim_client.py\n",
    "\n",
    "import sys\n",
    "ros_path = '/opt/ros/kinetic/lib/python2.7/dist-packages'\n",
    "if ros_path in sys.path:\n",
    "    sys.path.remove(ros_path)\n",
    "    # To solve the conflict btw ROS ans cv2\n",
    "\n",
    "import cv2\n",
    "\n",
    "import airsim\n",
    "import numpy as np\n",
    "\n",
    "\n",
    "class AirSimClient:\n",
    "    def __init__(self, init_mean, init_std):\n",
    "        # Mean and Std of Initial pose of drone - 4-DOF\n",
    "        self.init_mean = init_mean\n",
    "        self.init_std = init_std\n",
    "        \n",
    "        # AirSim connection\n",
    "        self.client = airsim.MultirotorClient()\n",
    "        self.client.confirmConnection()\n",
    "        self.client.enableApiControl(True)\n",
    "        self.client.armDisarm(True)\n",
    "        # Takeoff\n",
    "        self.client.takeoffAsync().join()\n",
    "        \n",
    "    \n",
    "    def initPoseRnd(self):\n",
    "        self.init_pose = np.random.normal(self.init_mean, self.init_std)\n",
    "    \n",
    "    \n",
    "    def calLinSpeed(self):\n",
    "        state = self.client.getMultirotorState()\n",
    "\n",
    "        vx = state.kinematics_estimated.linear_velocity.x_val\n",
    "        vy = state.kinematics_estimated.linear_velocity.y_val\n",
    "        vz = state.kinematics_estimated.linear_velocity.z_val\n",
    "        linSpeed = (vx**2 + vy**2 + vz**2)**0.5\n",
    "\n",
    "        return linSpeed\n",
    "    \n",
    "    \n",
    "    def mvToInitPose(self):\n",
    "        self.initPoseRnd()\n",
    "        # To the initial position and yaw (heading)\n",
    "        self.client.moveToPositionAsync(self.init_pose[0],\n",
    "                                        self.init_pose[1],\n",
    "                                        self.init_pose[2])\n",
    "        self.client.rotateToYawAsync(self.init_pose[3])\n",
    "\n",
    "        linSpeed = self.calLinSpeed()\n",
    "\n",
    "        while(linSpeed < 0.1):\n",
    "            linSpeed = self.calLinSpeed()\n",
    "            time.sleep(0.03)\n",
    "\n",
    "        self.ready = True\n",
    "\n",
    "        \n",
    "    def exec_action(self, action):\n",
    "        # client.moveByAngleThrottleAsync(pitch, roll, throttle, yaw_rate, duration);\n",
    "        self.client.moveByAngleThrottleAsync(action[0], action[1],\n",
    "                                             action[2], action[3],\n",
    "                                             action[4])\n",
    "        \n",
    "\n",
    "    def getDroneCam(self, img_size):\n",
    "        # get png format\n",
    "        resp = self.client.simGetImages([airsim.ImageRequest(0, airsim.ImageType.Scene)])\n",
    "        \n",
    "        return resp\n",
    "        "
   ]
  },
  {
   "cell_type": "code",
   "execution_count": 18,
   "metadata": {},
   "outputs": [
    {
     "data": {
      "text/plain": [
       "array([ -8.429264,  -9.518717, 169.63432 ], dtype=float32)"
      ]
     },
     "execution_count": 18,
     "metadata": {},
     "output_type": "execute_result"
    }
   ],
   "source": [
    "import gym\n",
    "import numpy as np\n",
    "# roll, picth, yaw, thrust\n",
    "a = gym.spaces.Box(low=np.array([-20.0, -20.0, -180.0]),\n",
    "                  high=np.array([20.0, 20.0, 180.0]),\n",
    "                  dtype=np.float32)\n",
    "a.sample()"
   ]
  },
  {
   "cell_type": "code",
   "execution_count": 1,
   "metadata": {},
   "outputs": [],
   "source": [
    "import airsim\n",
    "import numpy as np\n",
    "import matplotlib.pyplot as plt"
   ]
  },
  {
   "cell_type": "code",
   "execution_count": 2,
   "metadata": {},
   "outputs": [
    {
     "name": "stdout",
     "output_type": "stream",
     "text": [
      "Connected!\n",
      "Client Ver:1 (Min Req: 1), Server Ver:1 (Min Req: 1)\n",
      "\n"
     ]
    }
   ],
   "source": [
    "cl = airsim.MultirotorClient()\n",
    "cl.confirmConnection()"
   ]
  },
  {
   "cell_type": "code",
   "execution_count": null,
   "metadata": {},
   "outputs": [],
   "source": [
    "png_img = cl.simGetImage(\"0\", airsim.ImageType.Scene)"
   ]
  },
  {
   "cell_type": "code",
   "execution_count": null,
   "metadata": {},
   "outputs": [],
   "source": []
  }
 ],
 "metadata": {
  "kernelspec": {
   "display_name": "Baselines",
   "language": "python",
   "name": "baselines"
  },
  "language_info": {
   "codemirror_mode": {
    "name": "ipython",
    "version": 3
   },
   "file_extension": ".py",
   "mimetype": "text/x-python",
   "name": "python",
   "nbconvert_exporter": "python",
   "pygments_lexer": "ipython3",
   "version": "3.5.2"
  }
 },
 "nbformat": 4,
 "nbformat_minor": 2
}
